{
 "cells": [
  {
   "cell_type": "markdown",
   "metadata": {},
   "source": [
    "# Question 1\n",
    "Complete the function: use a for loop to print even numbers between 3000 and 3120 (both included)"
   ]
  },
  {
   "cell_type": "code",
   "execution_count": 5,
   "metadata": {
    "collapsed": true
   },
   "outputs": [],
   "source": [
    "def even():\n",
    " ##Your code here##\n",
    "\n",
    "    for i in range(2999,3121):\n",
    "        if i%2 == 0:\n",
    "            print(i)\n",
    "        \n"
   ]
  },
  {
   "cell_type": "code",
   "execution_count": 6,
   "metadata": {},
   "outputs": [
    {
     "name": "stdout",
     "output_type": "stream",
     "text": [
      "3000\n",
      "3002\n",
      "3004\n",
      "3006\n",
      "3008\n",
      "3010\n",
      "3012\n",
      "3014\n",
      "3016\n",
      "3018\n",
      "3020\n",
      "3022\n",
      "3024\n",
      "3026\n",
      "3028\n",
      "3030\n",
      "3032\n",
      "3034\n",
      "3036\n",
      "3038\n",
      "3040\n",
      "3042\n",
      "3044\n",
      "3046\n",
      "3048\n",
      "3050\n",
      "3052\n",
      "3054\n",
      "3056\n",
      "3058\n",
      "3060\n",
      "3062\n",
      "3064\n",
      "3066\n",
      "3068\n",
      "3070\n",
      "3072\n",
      "3074\n",
      "3076\n",
      "3078\n",
      "3080\n",
      "3082\n",
      "3084\n",
      "3086\n",
      "3088\n",
      "3090\n",
      "3092\n",
      "3094\n",
      "3096\n",
      "3098\n",
      "3100\n",
      "3102\n",
      "3104\n",
      "3106\n",
      "3108\n",
      "3110\n",
      "3112\n",
      "3114\n",
      "3116\n",
      "3118\n",
      "3120\n"
     ]
    }
   ],
   "source": [
    "even()"
   ]
  },
  {
   "cell_type": "markdown",
   "metadata": {},
   "source": [
    "# Question 2\n",
    "write a function called `dog`, that takes in one argument (a list of numbers representing several dogs' ages in human years), and _returns_ a list of those dogs' ages in dog years. Remember, 1 human year is equal to 7 dog years.\n"
   ]
  },
  {
   "cell_type": "code",
   "execution_count": 1,
   "metadata": {
    "collapsed": true
   },
   "outputs": [],
   "source": [
    " ##Your code here##\n",
    "\n",
    "def dog(ages_human):\n",
    "    dog_year = []\n",
    "    for a in ages_human:   \n",
    "        dog_year.append(a*7)\n",
    "    return dog_year\n",
    "    "
   ]
  },
  {
   "cell_type": "code",
   "execution_count": 2,
   "metadata": {},
   "outputs": [
    {
     "data": {
      "text/plain": [
       "[7, 14, 21, 28, 35, 42, 49]"
      ]
     },
     "execution_count": 2,
     "metadata": {},
     "output_type": "execute_result"
    }
   ],
   "source": [
    "dog([1, 2, 3, 4, 5, 6, 7])"
   ]
  },
  {
   "cell_type": "markdown",
   "metadata": {},
   "source": [
    "# Question 3 \n",
    "write a function  called `data_type` that takes in a list of items, and _prints_ the data type of every item in the list.\n"
   ]
  },
  {
   "cell_type": "code",
   "execution_count": 20,
   "metadata": {
    "collapsed": true
   },
   "outputs": [],
   "source": [
    " ##Your code here##\n",
    "def data_type(items):\n",
    "    for item in items:\n",
    "        print(type(item))"
   ]
  },
  {
   "cell_type": "code",
   "execution_count": 21,
   "metadata": {},
   "outputs": [
    {
     "name": "stdout",
     "output_type": "stream",
     "text": [
      "<class 'int'>\n",
      "<class 'str'>\n",
      "<class 'dict'>\n",
      "<class 'tuple'>\n",
      "<class 'list'>\n"
     ]
    }
   ],
   "source": [
    "data_type([1,'hello',{'k1':1},(4,5,6),['hello','hi','yes']])"
   ]
  },
  {
   "cell_type": "markdown",
   "metadata": {},
   "source": [
    " # Question 4\n",
    "Complete the function: you need the user to enter a password. You ask for the password using the `input` function:\n",
    "    \n",
    "```password = input('What is the password?') ```\n",
    "\n",
    "Write a while loop that will keep asking for the password until the user enters the correct password.\n",
    "\n",
    "The password is: jellybean\n"
   ]
  },
  {
   "cell_type": "code",
   "execution_count": 5,
   "metadata": {
    "collapsed": true
   },
   "outputs": [],
   "source": [
    "original_pass = \"jellybean\"\n",
    "def password():\n",
    "    \n",
    "    ##Your code here##\n",
    "    password = input('What is the password?')\n",
    "    while password != original_pass:\n",
    "        password =input('What is the password?')\n",
    "    \n",
    "    else:\n",
    "        print(original_pass)\n",
    "         \n",
    "        \n",
    "   \n"
   ]
  },
  {
   "cell_type": "code",
   "execution_count": null,
   "metadata": {
    "scrolled": false
   },
   "outputs": [],
   "source": [
    "password()\n"
   ]
  },
  {
   "cell_type": "code",
   "execution_count": null,
   "metadata": {
    "collapsed": true
   },
   "outputs": [],
   "source": []
  },
  {
   "cell_type": "code",
   "execution_count": null,
   "metadata": {
    "collapsed": true
   },
   "outputs": [],
   "source": []
  }
 ],
 "metadata": {
  "kernelspec": {
   "display_name": "Python 3",
   "language": "python",
   "name": "python3"
  },
  "language_info": {
   "codemirror_mode": {
    "name": "ipython",
    "version": 3
   },
   "file_extension": ".py",
   "mimetype": "text/x-python",
   "name": "python",
   "nbconvert_exporter": "python",
   "pygments_lexer": "ipython3",
   "version": "3.6.3"
  },
  "toc": {
   "base_numbering": 1,
   "nav_menu": {},
   "number_sections": true,
   "sideBar": true,
   "skip_h1_title": false,
   "title_cell": "Table of Contents",
   "title_sidebar": "Contents",
   "toc_cell": false,
   "toc_position": {},
   "toc_section_display": true,
   "toc_window_display": false
  }
 },
 "nbformat": 4,
 "nbformat_minor": 2
}
