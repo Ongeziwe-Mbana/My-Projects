{
 "cells": [
  {
   "cell_type": "markdown",
   "metadata": {},
   "source": [
    "# Crazy 8"
   ]
  },
  {
   "cell_type": "code",
   "execution_count": null,
   "metadata": {
    "collapsed": true
   },
   "outputs": [],
   "source": []
  },
  {
   "cell_type": "code",
   "execution_count": null,
   "metadata": {
    "collapsed": true
   },
   "outputs": [],
   "source": []
  },
  {
   "cell_type": "code",
   "execution_count": null,
   "metadata": {},
   "outputs": [],
   "source": []
  },
  {
   "cell_type": "code",
   "execution_count": 40,
   "metadata": {
    "collapsed": true
   },
   "outputs": [],
   "source": [
    "import random\n",
    "##A deck of playing cards typically has a suit and a rank\n",
    "##The possible values for suit's and rank's are below:\n",
    "suit = [\"clubs\", \"diamonds\", \"hearts\", \"spades\"]\n",
    "rank = [\"2\", \"3\", \"4\", \"5\", \"6\", \"7\", \"8\", \"9\", \"10\", \"jack\", \"queen\", \"king\", \"ace\"]\n",
    "\n",
    "\n",
    "class Card():\n",
    "    suitnames = [\"clubs\", \"diamonds\", \"hearts\", \"spades\"]\n",
    "    ranknames = [\"2\", \"3\", \"4\", \"5\", \"6\", \"7\", \"8\", \"9\", \"10\", \"jack\", \"queen\", \"king\", \"ace\"]\n",
    "    point = 0\n",
    "    \n",
    "    def __init__ (self, suit, rank):\n",
    "        self.suit = suit\n",
    "        self.rank = rank\n",
    "        self.point = self.determine_points() \n",
    "        \n",
    "    \n",
    "    def __str__(self):\n",
    "        return '{} of {}'.format(Card.ranknames[self.rank-2],Card.suitnames[self.suit])\n",
    "    \n",
    "    def __add__(self,other):\n",
    "        return self.rank + other.rank\n",
    "    #here the function is adding all the points from all the cards in the player's hand\n",
    "    def __point_Add__(self,other):\n",
    "        return self.point + other.point\n",
    "    \n",
    "    def __gt__(self, other):\n",
    "        return self.rank > other.rank\n",
    "    #This function assaigns each card a point value starting from the first one in the list 'rank'\n",
    "    def determine_points(self):\n",
    "        \n",
    "        if self.rank == rank[0]:\n",
    "            self.rank = rank[0]\n",
    "\n",
    "            self.point = 20\n",
    "            return point\n",
    "        if self.rank == rank[1]:\n",
    "            self.rank = rank[1]\n",
    "            self.point = 3\n",
    "            return point\n",
    "        if self.rank == rank[2]:\n",
    "            self.rank = rank[2]\n",
    "            self.point = 4\n",
    "            return point\n",
    "        if self.rank == rank[3]:\n",
    "            self.rank = rank[3]\n",
    "            self.point = 5\n",
    "            return point\n",
    "        if self.rank == rank[4]:\n",
    "            self.rank = rank[4]\n",
    "            self.point = 6\n",
    "            return point\n",
    "        if self.rank == rank[5]:\n",
    "            self.rank = rank[5]\n",
    "            self.point = 14\n",
    "            return point\n",
    "        if self.rank == rank[6]:\n",
    "            self.rank = rank[6]\n",
    "            self.point = 40\n",
    "            return point\n",
    "        if self.rank == rank[7]:\n",
    "            self.rank = rank[7]\n",
    "            self.point = 9\n",
    "            return point\n",
    "        if self.rank == rank[8]:\n",
    "            self.rank = rank[8]\n",
    "            self.point = 10\n",
    "            return point\n",
    "        elif self.rank == rank[8] and self.suit == suit[2]:\n",
    "            self.point = 100\n",
    "            return point\n",
    "        elif self.rank == rank[9] :\n",
    "            self.rank = rank[9]\n",
    "            self.point = 11\n",
    "            return point\n",
    "        elif self.rank == rank[10]:\n",
    "            self.rank = rank[10]\n",
    "            self.point = 11\n",
    "            return point\n",
    "        elif self.rank == rank[11]:\n",
    "            self.rank = rank[11]\n",
    "            self.point = 11\n",
    "            return point\n",
    "\n",
    "        if self.rank == rank[12]:\n",
    "            self.rank = rank[12]\n",
    "            self.point = 11\n",
    "            return point\n",
    "\n",
    "\n",
    "       \n",
    "        "
   ]
  },
  {
   "cell_type": "code",
   "execution_count": 41,
   "metadata": {
    "collapsed": true
   },
   "outputs": [],
   "source": [
    "\n",
    "deck = [Card(sut, rnk) for sut in range(4) for rnk in range(13)]"
   ]
  },
  {
   "cell_type": "code",
   "execution_count": 42,
   "metadata": {},
   "outputs": [],
   "source": [
    "random.shuffle(deck)"
   ]
  },
  {
   "cell_type": "code",
   "execution_count": 43,
   "metadata": {},
   "outputs": [],
   "source": [
    "up_card = deck[51]"
   ]
  },
  {
   "cell_type": "code",
   "execution_count": 44,
   "metadata": {},
   "outputs": [
    {
     "name": "stdout",
     "output_type": "stream",
     "text": [
      "ace of spades\n",
      "10 of diamonds\n",
      "3 of hearts\n",
      "5 of spades\n",
      "jack of diamonds\n",
      "8 of clubs\n",
      "4 of clubs\n",
      "6 of hearts\n",
      "king of clubs\n",
      "jack of clubs\n",
      "6 of clubs\n",
      "5 of hearts\n",
      "5 of diamonds\n",
      "9 of hearts\n",
      "8 of hearts\n",
      "9 of diamonds\n",
      "queen of diamonds\n",
      "king of spades\n",
      "4 of spades\n",
      "queen of clubs\n",
      "8 of diamonds\n",
      "jack of spades\n",
      "7 of diamonds\n",
      "10 of spades\n",
      "king of hearts\n",
      "queen of spades\n",
      "9 of spades\n",
      "8 of spades\n",
      "2 of hearts\n",
      "2 of clubs\n",
      "ace of clubs\n",
      "4 of diamonds\n",
      "10 of hearts\n",
      "5 of clubs\n",
      "jack of hearts\n",
      "queen of hearts\n",
      "3 of spades\n",
      "10 of clubs\n",
      "king of diamonds\n",
      "ace of diamonds\n",
      "2 of diamonds\n",
      "6 of spades\n",
      "ace of hearts\n",
      "7 of spades\n",
      "9 of clubs\n",
      "4 of hearts\n",
      "7 of hearts\n",
      "7 of clubs\n",
      "3 of clubs\n",
      "3 of diamonds\n",
      "2 of spades\n",
      "6 of diamonds\n"
     ]
    }
   ],
   "source": [
    "for card in deck:print(card)"
   ]
  },
  {
   "cell_type": "code",
   "execution_count": 45,
   "metadata": {
    "collapsed": true
   },
   "outputs": [],
   "source": [
    "class Hand(object):\n",
    "    def __init__(self):\n",
    "        self.cards = []\n",
    "        cards = self.cards\n",
    "    def __str__(self):\n",
    "        return \" & \".join([str(card) for card in self.cards])\n",
    "    def __bool__(self):\n",
    "        return bool(self.cards)\n",
    "    def passs(self, other,card):\n",
    "        \n",
    "        self.remove(card)\n",
    "        other.add(card)\n",
    "        \n",
    "    def addCard(self, card):\n",
    "        self.cards.append(card)\n",
    "    def removeCard(self, card):\n",
    "        self.cards.remove\n",
    "    def deal(self, card):\n",
    "        self.cards.append(card)\n",
    "        "
   ]
  },
  {
   "cell_type": "code",
   "execution_count": 46,
   "metadata": {},
   "outputs": [],
   "source": [
    "hand_player1 = Hand()\n",
    "hand_player2 = Hand()\n",
    "pile = []\n",
    "for i in range(16):\n",
    "    card = deck[i]\n",
    "\n",
    "    if i % 2 == 0:\n",
    "\n",
    "            \n",
    "        hand_player1.deal(card)\n",
    "        pile = deck.remove(card)\n",
    "        \n",
    "        \n",
    "        \n",
    "    else:\n",
    "\n",
    "        hand_player2.deal(card)\n",
    "        \n",
    "        pile = deck.remove(card)\n",
    "    \n"
   ]
  },
  {
   "cell_type": "code",
   "execution_count": 49,
   "metadata": {},
   "outputs": [
    {
     "name": "stdout",
     "output_type": "stream",
     "text": [
      "None\n"
     ]
    }
   ],
   "source": []
  },
  {
   "cell_type": "code",
   "execution_count": null,
   "metadata": {},
   "outputs": [],
   "source": [
    "\n",
    "            \n"
   ]
  },
  {
   "cell_type": "code",
   "execution_count": null,
   "metadata": {},
   "outputs": [],
   "source": [
    "\n",
    "def player1_turn():\n",
    "  \n",
    "    Play_is_valid = False\n",
    "    print (\"Your hand: {}\".format(hand_player1))\n",
    "    cardplay = input(\"Type a card you want to play in the form 'rank of suit' from your hand or type 'take' to take card from pile\")\n",
    "    def move(cardplay):\n",
    "         \n",
    "        if cardplay in hand_player1:\n",
    "            if cardplay.suit == up_card.suit or cardplay.rank == up_card.rank:\n",
    "                Play_is_valid = True\n",
    "                #deck.append(cardplay)\n",
    "                #nw_list.remove(cardplay)\n",
    "         #elif cardplay == 'take'\n",
    "        \n",
    "    "
   ]
  },
  {
   "cell_type": "code",
   "execution_count": null,
   "metadata": {},
   "outputs": [],
   "source": [
    "player1_turn()"
   ]
  },
  {
   "cell_type": "code",
   "execution_count": null,
   "metadata": {
    "collapsed": true
   },
   "outputs": [],
   "source": [
    "print(str(hand_player2))"
   ]
  },
  {
   "cell_type": "code",
   "execution_count": 36,
   "metadata": {},
   "outputs": [
    {
     "name": "stdout",
     "output_type": "stream",
     "text": [
      "14\n"
     ]
    }
   ],
   "source": [
    "print(str(len(deck)))"
   ]
  },
  {
   "cell_type": "code",
   "execution_count": null,
   "metadata": {
    "collapsed": true
   },
   "outputs": [],
   "source": [
    "\n",
    "                  "
   ]
  },
  {
   "cell_type": "code",
   "execution_count": null,
   "metadata": {
    "collapsed": true
   },
   "outputs": [],
   "source": []
  }
 ],
 "metadata": {
  "kernelspec": {
   "display_name": "Python 3",
   "language": "python",
   "name": "python3"
  },
  "language_info": {
   "codemirror_mode": {
    "name": "ipython",
    "version": 3
   },
   "file_extension": ".py",
   "mimetype": "text/x-python",
   "name": "python",
   "nbconvert_exporter": "python",
   "pygments_lexer": "ipython3",
   "version": "3.6.3"
  }
 },
 "nbformat": 4,
 "nbformat_minor": 2
}
