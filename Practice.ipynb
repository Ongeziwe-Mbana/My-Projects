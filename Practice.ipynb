{
 "cells": [
  {
   "cell_type": "code",
   "execution_count": 8,
   "metadata": {},
   "outputs": [
    {
     "name": "stdout",
     "output_type": "stream",
     "text": [
      "\n",
      "* \n",
      "* * \n",
      "* * * \n",
      "* * * * \n",
      "* * * * * \n",
      "* * * * \n",
      "* * * \n",
      "* * \n",
      "* \n"
     ]
    }
   ],
   "source": [
    "n=5;\n",
    "for i in range(n):\n",
    "    for j in range(i):\n",
    "        print ('* ', end=\"\")\n",
    "    print('')\n",
    "\n",
    "for i in range(n,0,-1):\n",
    "    for j in range(i):\n",
    "        print('* ', end=\"\")\n",
    "    print('')"
   ]
  },
  {
   "cell_type": "code",
   "execution_count": 16,
   "metadata": {},
   "outputs": [
    {
     "ename": "TypeError",
     "evalue": "time() missing 1 required positional argument: 'time_in'",
     "output_type": "error",
     "traceback": [
      "\u001b[1;31m---------------------------------------------------------------------------\u001b[0m",
      "\u001b[1;31mTypeError\u001b[0m                                 Traceback (most recent call last)",
      "\u001b[1;32m<ipython-input-16-960a576588aa>\u001b[0m in \u001b[0;36m<module>\u001b[1;34m()\u001b[0m\n\u001b[0;32m     38\u001b[0m     \u001b[1;32mreturn\u001b[0m \u001b[0mtime_in\u001b[0m\u001b[1;33m\u001b[0m\u001b[0m\n\u001b[0;32m     39\u001b[0m \u001b[1;33m\u001b[0m\u001b[0m\n\u001b[1;32m---> 40\u001b[1;33m \u001b[0mtime\u001b[0m\u001b[1;33m(\u001b[0m\u001b[1;33m)\u001b[0m\u001b[1;33m\u001b[0m\u001b[0m\n\u001b[0m\u001b[0;32m     41\u001b[0m \u001b[1;33m\u001b[0m\u001b[0m\n\u001b[0;32m     42\u001b[0m \u001b[1;33m\u001b[0m\u001b[0m\n",
      "\u001b[1;31mTypeError\u001b[0m: time() missing 1 required positional argument: 'time_in'"
     ]
    }
   ],
   "source": [
    "# I'll print this out as final result depending on the list \"hour_digit\"\n",
    "# Length = 24\n",
    "hour_word = ['Twelve','One', 'Two', 'Three', 'Four', 'Five','Six', 'Seven', 'Eight', 'Nine', 'Ten', 'Eleven', 'Twelve',\n",
    "            'One', 'Two', 'Three', 'Four', 'Five','Six', 'Seven', 'Eight', 'Nine', 'Ten', 'Eleven']\n",
    "# I'll print this out as final result depending on the list \"minuete_digit\" combined with hour word\n",
    "#Length = 60\n",
    "minuet_word= ['Oclock','One', 'Two', 'Three', 'Four', 'Five','Six', 'Seven', 'Eight', 'Nine', 'Ten', 'Eleven', 'Twelve', 'Thirteen',\n",
    "'Fourteen', 'Fifteen', 'Sixteen','Seventeen','Eighteen','Nineteen','Twenty','Twenty-one','Twenty-Two','Twenty-Three',\n",
    "'Twenty-Four','Twenty-Five','Twenty-Sic','Twenty-Seven','Twenty-Eight','Twenty-Nine','Thirty','Thirty-One','Thirty-Two',\n",
    "'Thirty-Three','Thirty-Four','Thirty-Five','Thirty-Six','Thirty-Seven','Thirty-Eight','Thirty-Nine','Forty','Forty-one',\n",
    "'Fourty-two','Forty-Three','Forty-Four','Forty-Five','Forty-Six','Forty-Seven','Forty-Eight','Forty-Nine','Fifty','Fifty-One',\n",
    "'Fifty-Two','Fifity-Three','Fifty-Four','Fifty-Five','Fifty-Six','Fifty-Seven','Fifty-Eight','Fifty-Nine']\n",
    "# Length = 24\n",
    "hour_digit= ['00','01','02','03','04','05','06','07','08','09','10','11','12','13','14','15','16','17','18','19','20','21','22'\n",
    "            ,'23']\n",
    "# Length = 60\n",
    "minuet_digit = ['00','01','02','03','04','05','06','07','08','09','10','11','12','13','14','15','16','17','18','19','20','21',\n",
    "                '22','23','24','25','26','27','28','29','30','31','32','33','34','35','36','37','38','39','40','41','42','43',\n",
    "                '44','45','46','47','48','49','50','51','52','53','54','55','56','57','58','59']\n",
    "\n",
    "\n",
    "   \n",
    "\n",
    "       \n",
    " \n",
    "       \n",
    "       hours = ['twelve', 'one', 'two', 'three', 'four', 'five', 'six', 'seven', 'eight', 'nine', 'ten', 'eleven', 'twelve',\n",
    "              'one', 'two', 'three', 'four', 'five', 'six', 'seven', 'eight', 'nine', 'ten', 'eleven']\n",
    "       \n",
    "       #let hours values be re-used by minutes\n",
    "       minutes = hours[:13] + ['thirteen', 'fourteen', 'fiveteen', 'sixteen', 'seventeen', 'eighteen', 'nineteen', 'twenty']\n",
    "       \n",
    "       hour = int(self.in_clock[0:2])\n",
    "       minute = int(self.in_clock[3:])  \n",
    "   \n",
    "       #message to display to the user\n",
    "       hour_msg = ''\n",
    "       minute_msg = ''\n",
    "       \n",
    "       #day or night\n",
    "       meridian = ''\n",
    "       \n",
    "       #we need to tell the user to enter valid values and let the intepreter execute normally\n",
    "       if hour > 23:\n",
    "           print('Enter valid hours')\n",
    "           return\n",
    "               \n",
    "       #noon hours\n",
    "       if hour < 13:\n",
    "           \n",
    "           if hour == 0:\n",
    "               meridian = 'pm'\n",
    "           else:\n",
    "               meridian = 'am'\n",
    "       else:\n",
    "           #afternoon hours\n",
    "           meridian = 'pm'                  \n",
    "       \n",
    "       if minute != 0:\n",
    "           minute_msg = minutes[minute]\n",
    "       \n",
    "       #we get the required message from the list defined above use our as an index\n",
    "       hour_msg = hours[hour]\n",
    "       \n",
    "       print(\"It's {} {} {}\".format(hour_msg, minute_msg, meridian))\n",
    "                   \n",
    "#my_clock = Clock(in_clock = '00:13')\n",
    "#my_clock.determine_clock()\n",
    "\n",
    "# {'one':01}\n",
    "\n",
    "\n",
    "    \n",
    "#time_in = input(\"Enter the time as a string \")    \n",
    "\n",
    "#def time(time_in):\n",
    "    \n",
    "   \n",
    "    \n",
    "    \n",
    "    #for h in range(len(hour_digit)):\n",
    "     #   h = hour_word[h]\n",
    "    #return h\n",
    "   # for m in range(len(minuet_digit)):\n",
    "       # m = minuet_word[m]\n",
    "    #return str(m)\n",
    "    #return time_in\n",
    "    \n",
    "   \n",
    "   \n",
    "\n",
    "#time('15:00')\n",
    "\n",
    "\n",
    "\n",
    "        \n",
    "        \n",
    "    "
   ]
  },
  {
   "cell_type": "code",
   "execution_count": 13,
   "metadata": {},
   "outputs": [
    {
     "ename": "NameError",
     "evalue": "name 'h' is not defined",
     "output_type": "error",
     "traceback": [
      "\u001b[1;31m---------------------------------------------------------------------------\u001b[0m",
      "\u001b[1;31mNameError\u001b[0m                                 Traceback (most recent call last)",
      "\u001b[1;32m<ipython-input-13-0378e4e5de93>\u001b[0m in \u001b[0;36m<module>\u001b[1;34m()\u001b[0m\n\u001b[1;32m----> 1\u001b[1;33m \u001b[0mprint\u001b[0m\u001b[1;33m(\u001b[0m\u001b[0mh\u001b[0m\u001b[1;33m)\u001b[0m\u001b[1;33m\u001b[0m\u001b[0m\n\u001b[0m",
      "\u001b[1;31mNameError\u001b[0m: name 'h' is not defined"
     ]
    }
   ],
   "source": [
    "print(h)"
   ]
  },
  {
   "cell_type": "code",
   "execution_count": 5,
   "metadata": {},
   "outputs": [
    {
     "name": "stdout",
     "output_type": "stream",
     "text": [
      "What is the time00:00\n"
     ]
    },
    {
     "data": {
      "text/plain": [
       "str"
      ]
     },
     "execution_count": 5,
     "metadata": {},
     "output_type": "execute_result"
    }
   ],
   "source": [
    "time = input(\"What is the time \")\n",
    "type(time)"
   ]
  },
  {
   "cell_type": "code",
   "execution_count": 28,
   "metadata": {},
   "outputs": [
    {
     "name": "stdout",
     "output_type": "stream",
     "text": [
      "<built-in method index of list object at 0x000001E9FF75E348>\n"
     ]
    }
   ],
   "source": [
    "strng = \"awerfkhiyp\"\n",
    "strng[:5]\n",
    "\n",
    "print(hour_word.index)\n",
    "\n",
    "\n",
    "\n",
    "\n"
   ]
  },
  {
   "cell_type": "code",
   "execution_count": 26,
   "metadata": {},
   "outputs": [
    {
     "data": {
      "text/plain": [
       "list"
      ]
     },
     "execution_count": 26,
     "metadata": {},
     "output_type": "execute_result"
    }
   ],
   "source": [
    "type(hour_digit[:24])"
   ]
  },
  {
   "cell_type": "code",
   "execution_count": 27,
   "metadata": {},
   "outputs": [
    {
     "name": "stdout",
     "output_type": "stream",
     "text": [
      "['00', '01', '02', '03', '04', '05', '06', '07', '08', '09', '10', '11', '12', '13', '14', '15', '16', '17', '18', '19', '20', '21', '22', '23']\n"
     ]
    }
   ],
   "source": [
    "print(hour_digit[:24])"
   ]
  },
  {
   "cell_type": "code",
   "execution_count": null,
   "metadata": {
    "collapsed": true
   },
   "outputs": [],
   "source": [
    " \n",
    "    hour = int(time[:2])\n",
    "    minute = int(time[3:])\n",
    "    \n",
    "    meridian = ''\n",
    "    \n",
    "    if hour > 23"
   ]
  },
  {
   "cell_type": "code",
   "execution_count": null,
   "metadata": {
    "collapsed": true
   },
   "outputs": [],
   "source": []
  },
  {
   "cell_type": "code",
   "execution_count": null,
   "metadata": {
    "collapsed": true
   },
   "outputs": [],
   "source": []
  },
  {
   "cell_type": "code",
   "execution_count": null,
   "metadata": {
    "collapsed": true
   },
   "outputs": [],
   "source": []
  },
  {
   "cell_type": "code",
   "execution_count": null,
   "metadata": {
    "collapsed": true
   },
   "outputs": [],
   "source": []
  },
  {
   "cell_type": "code",
   "execution_count": null,
   "metadata": {
    "collapsed": true
   },
   "outputs": [],
   "source": []
  },
  {
   "cell_type": "code",
   "execution_count": null,
   "metadata": {
    "collapsed": true
   },
   "outputs": [],
   "source": []
  },
  {
   "cell_type": "code",
   "execution_count": null,
   "metadata": {
    "collapsed": true
   },
   "outputs": [],
   "source": []
  },
  {
   "cell_type": "code",
   "execution_count": null,
   "metadata": {
    "collapsed": true
   },
   "outputs": [],
   "source": []
  },
  {
   "cell_type": "code",
   "execution_count": null,
   "metadata": {
    "collapsed": true
   },
   "outputs": [],
   "source": []
  },
  {
   "cell_type": "code",
   "execution_count": null,
   "metadata": {
    "collapsed": true
   },
   "outputs": [],
   "source": []
  },
  {
   "cell_type": "code",
   "execution_count": null,
   "metadata": {
    "collapsed": true
   },
   "outputs": [],
   "source": []
  },
  {
   "cell_type": "code",
   "execution_count": null,
   "metadata": {
    "collapsed": true
   },
   "outputs": [],
   "source": []
  },
  {
   "cell_type": "code",
   "execution_count": null,
   "metadata": {
    "collapsed": true
   },
   "outputs": [],
   "source": []
  },
  {
   "cell_type": "code",
   "execution_count": null,
   "metadata": {
    "collapsed": true
   },
   "outputs": [],
   "source": []
  },
  {
   "cell_type": "code",
   "execution_count": null,
   "metadata": {
    "collapsed": true
   },
   "outputs": [],
   "source": []
  },
  {
   "cell_type": "code",
   "execution_count": null,
   "metadata": {
    "collapsed": true
   },
   "outputs": [],
   "source": []
  },
  {
   "cell_type": "code",
   "execution_count": null,
   "metadata": {
    "collapsed": true
   },
   "outputs": [],
   "source": []
  },
  {
   "cell_type": "code",
   "execution_count": null,
   "metadata": {
    "collapsed": true
   },
   "outputs": [],
   "source": []
  },
  {
   "cell_type": "code",
   "execution_count": null,
   "metadata": {
    "collapsed": true
   },
   "outputs": [],
   "source": []
  }
 ],
 "metadata": {
  "kernelspec": {
   "display_name": "Python 3",
   "language": "python",
   "name": "python3"
  },
  "language_info": {
   "codemirror_mode": {
    "name": "ipython",
    "version": 3
   },
   "file_extension": ".py",
   "mimetype": "text/x-python",
   "name": "python",
   "nbconvert_exporter": "python",
   "pygments_lexer": "ipython3",
   "version": "3.6.3"
  }
 },
 "nbformat": 4,
 "nbformat_minor": 2
}
