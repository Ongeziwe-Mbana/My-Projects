{
 "cells": [
  {
   "cell_type": "markdown",
   "metadata": {},
   "source": [
    "This tutorial was created using the wonderful [Google Python Developers](https://developers.google.com/edu/python/) course, and has been modified under the [Creative Common's licence 2.5](https://creativecommons.org/licenses/by/2.5/) "
   ]
  },
  {
   "cell_type": "markdown",
   "metadata": {},
   "source": [
    "Copyright 2010 Google Inc.\n",
    "Licensed under the Apache License, Version 2.0\n",
    "http://www.apache.org/licenses/LICENSE-2.0\n",
    "\n",
    "Google's Python Class\n",
    "http://code.google.com/edu/languages/google-python-class/"
   ]
  },
  {
   "cell_type": "markdown",
   "metadata": {},
   "source": [
    "# Basic string exercises"
   ]
  },
  {
   "cell_type": "markdown",
   "metadata": {},
   "source": [
    "## Honour Code"
   ]
  },
  {
   "cell_type": "markdown",
   "metadata": {},
   "source": [
    "I **YOUR NAME, YOUR SURNAME**, confirm - by submitting this document - that the solutions in this notebook are a result of my own work and that I abide by the EDSA honour code (https://drive.google.com/file/d/1QDCjGZJ8-FmJE3bZdIQNwnJyQKPhHZBn/view?usp=sharing).  \n",
    "\n",
    "Non-compliance with the honour code constitutes a material breach of contract."
   ]
  },
  {
   "cell_type": "markdown",
   "metadata": {},
   "source": [
    "## donuts\n",
    "Given an int count of a number of donuts, return a string of the form `Number of donuts: <count>`, where `<count>` is the number passed in. However, if the count is 10 or more, then use the word 'many' instead of the actual count.<br>\n",
    "So donuts(5)  returns `Number of donuts: 5` and <br>\n",
    "   donuts(23) returns `Number of donuts: many`"
   ]
  },
  {
   "cell_type": "code",
   "execution_count": 1,
   "metadata": {
    "nbgrader": {
     "grade": false,
     "grade_id": "cell-a4742f59416f3b2b",
     "locked": false,
     "schema_version": 1,
     "solution": true
    }
   },
   "outputs": [],
   "source": [
    "def donuts(count):\n",
    "    ### BEGIN SOLUTION\n",
    "    if count >= 10:\n",
    "        return 'Number of donuts: many'\n",
    "    else:\n",
    "        return 'Number of donuts: {}'.format(count) \n",
    "    ### END SOLUTION\n",
    "    return None"
   ]
  },
  {
   "cell_type": "markdown",
   "metadata": {},
   "source": [
    "Your code will be tested against the list of assertions below.  Make sure that it passes them."
   ]
  },
  {
   "cell_type": "code",
   "execution_count": 2,
   "metadata": {
    "nbgrader": {
     "grade": true,
     "grade_id": "cell-f2a478f9944472ed",
     "locked": true,
     "points": 1,
     "schema_version": 1,
     "solution": false
    }
   },
   "outputs": [],
   "source": [
    "assert donuts(5) == 'Number of donuts: 5'\n",
    "assert donuts(3) == 'Number of donuts: 3'"
   ]
  },
  {
   "cell_type": "code",
   "execution_count": 3,
   "metadata": {
    "nbgrader": {
     "grade": true,
     "grade_id": "cell-982cd7c38f927820",
     "locked": true,
     "points": 1,
     "schema_version": 1,
     "solution": false
    }
   },
   "outputs": [],
   "source": [
    "assert donuts(109) == 'Number of donuts: many'\n",
    "assert donuts(501) == 'Number of donuts: many'"
   ]
  },
  {
   "cell_type": "code",
   "execution_count": 4,
   "metadata": {
    "nbgrader": {
     "grade": true,
     "grade_id": "cell-2c83810061b87661",
     "locked": true,
     "points": 1,
     "schema_version": 1,
     "solution": false
    }
   },
   "outputs": [],
   "source": [
    "### BEGIN HIDDEN TESTS\n",
    "assert donuts(10) == 'Number of donuts: many'\n",
    "### END HIDDEN TESTS"
   ]
  },
  {
   "cell_type": "code",
   "execution_count": null,
   "metadata": {},
   "outputs": [],
   "source": [
    "donuts(5)"
   ]
  },
  {
   "cell_type": "code",
   "execution_count": 5,
   "metadata": {},
   "outputs": [
    {
     "data": {
      "text/plain": [
       "'Number of donuts: many'"
      ]
     },
     "execution_count": 5,
     "metadata": {},
     "output_type": "execute_result"
    }
   ],
   "source": [
    "donuts(23)"
   ]
  },
  {
   "cell_type": "markdown",
   "metadata": {},
   "source": [
    "## both_ends\n",
    "Given a string s, return a string made of the first 2 and the last 2 chars of the original string, so 'spring' yields 'spng'. However, if the string length is less than or equal to 2, return the empty string instead."
   ]
  },
  {
   "cell_type": "code",
   "execution_count": 45,
   "metadata": {
    "nbgrader": {
     "grade": false,
     "grade_id": "cell-28f6442eeaf35f40",
     "locked": false,
     "schema_version": 1,
     "solution": true
    }
   },
   "outputs": [],
   "source": [
    "def both_ends(s):\n",
    "    ### BEGIN SOLUTION\n",
    "    if len(s) <= 2:\n",
    "        return ''\n",
    "    else:\n",
    "        return s[0:2] + s[::-1][0:2][::-1]\n",
    "    ### END SOLUTION\n",
    "    return None"
   ]
  },
  {
   "cell_type": "markdown",
   "metadata": {},
   "source": [
    "Your code will be tested against the list of assertions below.  Make sure that it passes them."
   ]
  },
  {
   "cell_type": "code",
   "execution_count": 46,
   "metadata": {
    "nbgrader": {
     "grade": true,
     "grade_id": "cell-bf12251560fc0214",
     "locked": true,
     "points": 1,
     "schema_version": 1,
     "solution": false
    }
   },
   "outputs": [],
   "source": [
    "assert both_ends('spring') == 'spng'\n",
    "assert both_ends('s') == ''\n",
    "assert both_ends('hel') == 'heel'\n",
    "assert both_ends('tomorrow') == 'toow'"
   ]
  },
  {
   "cell_type": "code",
   "execution_count": 47,
   "metadata": {
    "nbgrader": {
     "grade": true,
     "grade_id": "cell-807e7377b8d61c4d",
     "locked": true,
     "points": 1,
     "schema_version": 1,
     "solution": false
    }
   },
   "outputs": [
    {
     "data": {
      "text/plain": [
       "'spng'"
      ]
     },
     "execution_count": 47,
     "metadata": {},
     "output_type": "execute_result"
    }
   ],
   "source": [
    "### BEGIN HIDDEN TESTS\n",
    "assert both_ends('sp') == ''\n",
    "### END HIDDEN TESTS"
   ]
  },
  {
   "cell_type": "code",
   "execution_count": null,
   "metadata": {},
   "outputs": [],
   "source": [
    "both_ends('spring')"
   ]
  },
  {
   "cell_type": "code",
   "execution_count": 48,
   "metadata": {},
   "outputs": [
    {
     "data": {
      "text/plain": [
       "''"
      ]
     },
     "execution_count": 48,
     "metadata": {},
     "output_type": "execute_result"
    }
   ],
   "source": [
    "both_ends('sp')"
   ]
  },
  {
   "cell_type": "markdown",
   "metadata": {},
   "source": [
    "## fix_start\n",
    "Given a string s, return a string where all occurences of its first char have been changed to `*`, except do not change the first char itself.<br>\n",
    "e.g. 'babble' yields `ba**le`<br>\n",
    "Assume that the string is length 1 or more.<br>\n",
    "Hint: s.replace(stra, strb) returns a version of string s where all instances of stra have been replaced by strb."
   ]
  },
  {
   "cell_type": "code",
   "execution_count": 49,
   "metadata": {
    "nbgrader": {
     "grade": false,
     "grade_id": "cell-f8a217e1a99a57e5",
     "locked": false,
     "schema_version": 1,
     "solution": true
    }
   },
   "outputs": [],
   "source": [
    "def fix_start(s):\n",
    "    ### BEGIN SOLUTION\n",
    "    s1 = s.replace(s[0], '*')[1:]\n",
    "    s2 = s1.replace(s1[0], s[0:1])[0]\n",
    "    return s2 + s1\n",
    "    ### END SOLUTION\n",
    "    return None"
   ]
  },
  {
   "cell_type": "markdown",
   "metadata": {},
   "source": [
    "Your code will be tested against the list of assertions below.  Make sure that it passes them."
   ]
  },
  {
   "cell_type": "code",
   "execution_count": 50,
   "metadata": {
    "nbgrader": {
     "grade": true,
     "grade_id": "cell-187ab2dd46dbe486",
     "locked": true,
     "points": 1,
     "schema_version": 1,
     "solution": false
    }
   },
   "outputs": [],
   "source": [
    "assert fix_start('babble') == 'ba**le'\n",
    "assert fix_start('turtle') == 'tur*le'\n",
    "assert fix_start('kdswueknvnvmkloskk') == 'kdswue*nvnvm*los**'\n",
    "assert fix_start('mmmmm') == 'm****'"
   ]
  },
  {
   "cell_type": "code",
   "execution_count": 51,
   "metadata": {
    "nbgrader": {
     "grade": true,
     "grade_id": "cell-54b27dd764c8cfcf",
     "locked": true,
     "points": 1,
     "schema_version": 1,
     "solution": false
    }
   },
   "outputs": [
    {
     "data": {
      "text/plain": [
       "'ba**le'"
      ]
     },
     "execution_count": 51,
     "metadata": {},
     "output_type": "execute_result"
    }
   ],
   "source": [
    "### BEGIN HIDDEN TESTS\n",
    "assert fix_start('hkasklkoowi') == 'hkasklkoowi'\n",
    "### END HIDDEN TESTS\n",
    "fix_start('babble')"
   ]
  },
  {
   "cell_type": "markdown",
   "metadata": {},
   "source": [
    "## MixUp\n",
    "Given strings a and b, return a single string with a and b separated by a space `<a> <b>`, except swap the first 2 chars of each string.<br>\n",
    "e.g.<br>\n",
    "`'mix', pod' -> 'pox mid'`<br>\n",
    "`'dog', 'dinner' -> 'dig donner'` <br>\n",
    "Assume a and b are length 2 or more."
   ]
  },
  {
   "cell_type": "code",
   "execution_count": 52,
   "metadata": {
    "nbgrader": {
     "grade": false,
     "grade_id": "cell-190c0b5a4d50dfda",
     "locked": false,
     "schema_version": 1,
     "solution": true
    }
   },
   "outputs": [],
   "source": [
    "def mix_up(a, b): \n",
    "    ### BEGIN SOLUTION\n",
    "    first = b[0:2] + a[2:]\n",
    "    second = a[0:2] + b[2:]\n",
    "    return first + ' ' + second\n",
    "    ### END SOLUTION\n",
    "    return None"
   ]
  },
  {
   "cell_type": "markdown",
   "metadata": {},
   "source": [
    "Your code will be tested against the list of assertions below.  Make sure that it passes them."
   ]
  },
  {
   "cell_type": "code",
   "execution_count": 72,
   "metadata": {
    "nbgrader": {
     "grade": true,
     "grade_id": "cell-615dfa035a085ded",
     "locked": true,
     "points": 2,
     "schema_version": 1,
     "solution": false
    }
   },
   "outputs": [],
   "source": [
    "assert mix_up('dog', 'dinner') == 'dig donner'\n",
    "assert mix_up('max', 'min') == 'mix man'\n",
    "assert mix_up('today', 'tomorrow') == 'today tomorrow'\n",
    "assert mix_up('somerandom', 'string') == 'stmerandom soring'\n",
    "assert mix_up('hdjjsdfsd', 'klertpop') == 'kljjsdfsd hdertpop'\n",
    "assert mix_up('ab', 'ba') == 'ba ab'"
   ]
  },
  {
   "cell_type": "code",
   "execution_count": 73,
   "metadata": {},
   "outputs": [
    {
     "data": {
      "text/plain": [
       "'pox mid'"
      ]
     },
     "execution_count": 73,
     "metadata": {},
     "output_type": "execute_result"
    }
   ],
   "source": [
    "mix_up('mix', 'pod')"
   ]
  },
  {
   "cell_type": "code",
   "execution_count": 74,
   "metadata": {},
   "outputs": [
    {
     "data": {
      "text/plain": [
       "'dig donner'"
      ]
     },
     "execution_count": 74,
     "metadata": {},
     "output_type": "execute_result"
    }
   ],
   "source": [
    "mix_up('dog', 'dinner')"
   ]
  },
  {
   "cell_type": "markdown",
   "metadata": {},
   "source": [
    "## verbing\n",
    "Given a string, if its length is at least 3, add 'ing' to its end.<br> Unless it already ends in 'ing', in which case add 'ly' instead. <br>If the string length is less than 3, leave it unchanged. <br>Return the resulting string."
   ]
  },
  {
   "cell_type": "code",
   "execution_count": 17,
   "metadata": {
    "nbgrader": {
     "grade": false,
     "grade_id": "cell-9563b451db1937af",
     "locked": false,
     "schema_version": 1,
     "solution": true
    }
   },
   "outputs": [],
   "source": [
    "def verbing(s):\n",
    "    ### BEGIN SOLUTION\n",
    "    if len(s) < 3:\n",
    "        return s\n",
    "    elif (len(s) >= 3) & (s[::-1][0:3][::-1] == 'ing'):\n",
    "        return s + 'ly'\n",
    "    else:\n",
    "        return s + 'ing'\n",
    "    ### END SOLUTION\n",
    "    return None"
   ]
  },
  {
   "cell_type": "markdown",
   "metadata": {},
   "source": [
    "Your code will be tested against the list of assertions below.  Make sure that it passes them."
   ]
  },
  {
   "cell_type": "code",
   "execution_count": 31,
   "metadata": {
    "nbgrader": {
     "grade": true,
     "grade_id": "cell-7900c6414257fbfa",
     "locked": true,
     "points": 1,
     "schema_version": 1,
     "solution": false
    }
   },
   "outputs": [],
   "source": [
    "assert verbing('dfjgkj') == 'dfjgkjing'\n",
    "assert verbing('interestingly') == 'interestinglying'"
   ]
  },
  {
   "cell_type": "code",
   "execution_count": 32,
   "metadata": {
    "nbgrader": {
     "grade": true,
     "grade_id": "cell-e160ce7bbc45c572",
     "locked": true,
     "points": 1,
     "schema_version": 1,
     "solution": false
    }
   },
   "outputs": [
    {
     "data": {
      "text/plain": [
       "'stoping'"
      ]
     },
     "execution_count": 32,
     "metadata": {},
     "output_type": "execute_result"
    }
   ],
   "source": [
    "### BEGIN HIDDEN TESTS\n",
    "assert verbing('interesting') == 'interestingly'\n",
    "assert verbing('hello world') == 'hello worlding'\n",
    "assert verbing('ing') == 'ingly'\n",
    "### END HIDDEN TESTS\n",
    "verbing('stop')"
   ]
  },
  {
   "cell_type": "code",
   "execution_count": 33,
   "metadata": {
    "nbgrader": {
     "grade": true,
     "grade_id": "cell-dca9868e623dd328",
     "locked": true,
     "points": 1,
     "schema_version": 1,
     "solution": false
    }
   },
   "outputs": [
    {
     "data": {
      "text/plain": [
       "'stoppingly'"
      ]
     },
     "execution_count": 33,
     "metadata": {},
     "output_type": "execute_result"
    }
   ],
   "source": [
    "### BEGIN HIDDEN TESTS\n",
    "assert verbing('hj') == 'hj'\n",
    "### END HIDDEN TESTS\n",
    "verbing('stopping')"
   ]
  },
  {
   "cell_type": "markdown",
   "metadata": {},
   "source": [
    "## not_bad\n",
    "Given a string, find the first appearance of the substring 'not' and 'bad'.<br> If the 'bad' follows the 'not', replace the whole 'not'...'bad' substring with 'good'.<br>\n",
    "Return the resulting string."
   ]
  },
  {
   "cell_type": "markdown",
   "metadata": {},
   "source": [
    "So 'This dinner is not that bad!' yields:\n",
    "`This dinner is good!`"
   ]
  },
  {
   "cell_type": "code",
   "execution_count": 58,
   "metadata": {
    "nbgrader": {
     "grade": false,
     "grade_id": "cell-9320395523e2ade3",
     "locked": false,
     "schema_version": 1,
     "solution": true
    }
   },
   "outputs": [],
   "source": [
    "def not_bad(s):\n",
    "    ### BEGIN SOLUTION\n",
    "    not_i = s.find('not')\n",
    "    bad_i = s.find('bad')\n",
    "    try:\n",
    "        if ('not' in s) & ('bad' in s) & (s.index('bad') > s.index('not')):\n",
    "            return s.replace(s[s.find('not'): s.find('bad') + 3], 'good')\n",
    "        else:\n",
    "            return s\n",
    "    except:\n",
    "        return s\n",
    "    ### END SOLUTION\n",
    "    return None"
   ]
  },
  {
   "cell_type": "markdown",
   "metadata": {},
   "source": [
    "Your code will be tested against the list of assertions below.  Make sure that it passes them.\n",
    "IMPORTANT: Your code must not throw any errors, regardless of the string."
   ]
  },
  {
   "cell_type": "code",
   "execution_count": 59,
   "metadata": {
    "nbgrader": {
     "grade": true,
     "grade_id": "cell-7dbbbf78c615b53e",
     "locked": true,
     "points": 2,
     "schema_version": 1,
     "solution": false
    }
   },
   "outputs": [],
   "source": [
    "assert not_bad('This dinner is not that bad') == 'This dinner is good'\n",
    "assert not_bad('He is not a bad person') ==  'He is good person'\n",
    "assert not_bad('not hello bad') == 'good'\n",
    "assert not_bad('Being bad also mean being not good') == 'Being bad also mean being not good'"
   ]
  },
  {
   "cell_type": "code",
   "execution_count": 60,
   "metadata": {
    "nbgrader": {
     "grade": true,
     "grade_id": "cell-bbb2b7818f4ab45e",
     "locked": true,
     "points": 1,
     "schema_version": 1,
     "solution": false
    }
   },
   "outputs": [],
   "source": [
    "assert not_bad('hasd kfjeifnv dke') == 'hasd kfjeifnv dke'"
   ]
  },
  {
   "cell_type": "code",
   "execution_count": 61,
   "metadata": {},
   "outputs": [
    {
     "data": {
      "text/plain": [
       "''"
      ]
     },
     "execution_count": 61,
     "metadata": {},
     "output_type": "execute_result"
    }
   ],
   "source": [
    "not_bad('')"
   ]
  },
  {
   "cell_type": "code",
   "execution_count": 62,
   "metadata": {},
   "outputs": [
    {
     "data": {
      "text/plain": [
       "'This dinner is good'"
      ]
     },
     "execution_count": 62,
     "metadata": {},
     "output_type": "execute_result"
    }
   ],
   "source": [
    "not_bad('This dinner is not that bad')"
   ]
  },
  {
   "cell_type": "markdown",
   "metadata": {},
   "source": [
    "## front_back\n",
    "Consider dividing a string into two halves.<br>\n",
    "If the length is even, the front and back halves are the same length.<br>\n",
    "If the length is odd, we'll say that the extra char goes in the front half.<br>\n",
    "\n",
    "e.g. `'abcde'`, the front half is `'abc'`, the back half `'de'`.\n",
    "\n",
    "Given 2 strings, a and b, return a string of the form<br>\n",
    "a-front + b-front + a-back + b-back"
   ]
  },
  {
   "cell_type": "code",
   "execution_count": 63,
   "metadata": {
    "nbgrader": {
     "grade": false,
     "grade_id": "cell-fff78aa159fefc12",
     "locked": false,
     "schema_version": 1,
     "solution": true
    }
   },
   "outputs": [],
   "source": [
    "def front_back(a, b):\n",
    "    ### BEGIN SOLUTION\n",
    "    a_no = int(len(a)/2)\n",
    "    a_back = a[::-1][0:a_no][::-1]\n",
    "    a_front = a[0:-a_no]\n",
    "    b_no = int(len(b)/2)\n",
    "    b_back = b[::-1][0:b_no][::-1]\n",
    "    b_front = b[0:-b_no]\n",
    "    return a_front + b_front + a_back + b_back\n",
    "    ### END SOLUTION\n",
    "    return None"
   ]
  },
  {
   "cell_type": "code",
   "execution_count": 66,
   "metadata": {
    "nbgrader": {
     "grade": true,
     "grade_id": "cell-b461f4ca751cdcb9",
     "locked": true,
     "points": 3,
     "schema_version": 1,
     "solution": false
    }
   },
   "outputs": [],
   "source": [
    "assert front_back('abcde', 'xyz',) == 'abcxydez'\n",
    "assert front_back('binary', 'decimal',) == 'bindeciarymal'\n",
    "assert front_back('dskjfkds', 'bcjfbdf',) == 'dskjbcjffkdsbdf'\n",
    "assert front_back('odd', 'even',) == 'odevden'\n",
    "assert front_back('front', 'back',) == 'frobantck'"
   ]
  },
  {
   "cell_type": "code",
   "execution_count": 67,
   "metadata": {},
   "outputs": [
    {
     "data": {
      "text/plain": [
       "'abcxydez'"
      ]
     },
     "execution_count": 67,
     "metadata": {},
     "output_type": "execute_result"
    }
   ],
   "source": [
    "front_back('abcde', 'xyz')"
   ]
  },
  {
   "cell_type": "code",
   "execution_count": 70,
   "metadata": {},
   "outputs": [
    {
     "data": {
      "text/plain": [
       "''"
      ]
     },
     "execution_count": 70,
     "metadata": {},
     "output_type": "execute_result"
    }
   ],
   "source": [
    "front_back('a', 'b')"
   ]
  }
 ],
 "metadata": {
  "celltoolbar": "Create Assignment",
  "kernelspec": {
   "display_name": "Python 3",
   "language": "python",
   "name": "python3"
  },
  "language_info": {
   "codemirror_mode": {
    "name": "ipython",
    "version": 3
   },
   "file_extension": ".py",
   "mimetype": "text/x-python",
   "name": "python",
   "nbconvert_exporter": "python",
   "pygments_lexer": "ipython3",
   "version": "3.6.3"
  }
 },
 "nbformat": 4,
 "nbformat_minor": 2
}
