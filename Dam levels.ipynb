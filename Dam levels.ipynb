{
 "cells": [
  {
   "cell_type": "markdown",
   "metadata": {
    "deletable": true,
    "editable": true
   },
   "source": [
    "# Water Crisis Model Solutions - Dam levels (Q11 - Q20)"
   ]
  },
  {
   "cell_type": "code",
   "execution_count": 1,
   "metadata": {
    "collapsed": false,
    "deletable": true,
    "editable": true
   },
   "outputs": [],
   "source": [
    "import pandas as pd"
   ]
  },
  {
   "cell_type": "code",
   "execution_count": 2,
   "metadata": {
    "collapsed": false,
    "deletable": true,
    "editable": true
   },
   "outputs": [
    {
     "data": {
      "text/html": [
       "<div>\n",
       "<table border=\"1\" class=\"dataframe\">\n",
       "  <thead>\n",
       "    <tr style=\"text-align: right;\">\n",
       "      <th></th>\n",
       "      <th>t_date</th>\n",
       "      <th>month_year</th>\n",
       "      <th>t_month</th>\n",
       "      <th>t_year</th>\n",
       "      <th>dam_name</th>\n",
       "      <th>dam_class</th>\n",
       "      <th>Max_dam_capacity_ML</th>\n",
       "      <th>height_m</th>\n",
       "      <th>storage_ml</th>\n",
       "      <th>percentage_capacity</th>\n",
       "    </tr>\n",
       "  </thead>\n",
       "  <tbody>\n",
       "    <tr>\n",
       "      <th>0</th>\n",
       "      <td>01/01/2012</td>\n",
       "      <td>Jan-12</td>\n",
       "      <td>1</td>\n",
       "      <td>2012</td>\n",
       "      <td>ALEXANDRA</td>\n",
       "      <td>Minor Dam</td>\n",
       "      <td>134</td>\n",
       "      <td>10.64</td>\n",
       "      <td>99.9</td>\n",
       "      <td>0.745</td>\n",
       "    </tr>\n",
       "    <tr>\n",
       "      <th>1</th>\n",
       "      <td>02/01/2012</td>\n",
       "      <td>Jan-12</td>\n",
       "      <td>1</td>\n",
       "      <td>2012</td>\n",
       "      <td>ALEXANDRA</td>\n",
       "      <td>Minor Dam</td>\n",
       "      <td>134</td>\n",
       "      <td>10.61</td>\n",
       "      <td>99.2</td>\n",
       "      <td>0.740</td>\n",
       "    </tr>\n",
       "    <tr>\n",
       "      <th>2</th>\n",
       "      <td>03/01/2012</td>\n",
       "      <td>Jan-12</td>\n",
       "      <td>1</td>\n",
       "      <td>2012</td>\n",
       "      <td>ALEXANDRA</td>\n",
       "      <td>Minor Dam</td>\n",
       "      <td>134</td>\n",
       "      <td>10.59</td>\n",
       "      <td>98.7</td>\n",
       "      <td>0.737</td>\n",
       "    </tr>\n",
       "    <tr>\n",
       "      <th>3</th>\n",
       "      <td>04/01/2012</td>\n",
       "      <td>Jan-12</td>\n",
       "      <td>1</td>\n",
       "      <td>2012</td>\n",
       "      <td>ALEXANDRA</td>\n",
       "      <td>Minor Dam</td>\n",
       "      <td>134</td>\n",
       "      <td>10.61</td>\n",
       "      <td>99.2</td>\n",
       "      <td>0.740</td>\n",
       "    </tr>\n",
       "    <tr>\n",
       "      <th>4</th>\n",
       "      <td>05/01/2012</td>\n",
       "      <td>Jan-12</td>\n",
       "      <td>1</td>\n",
       "      <td>2012</td>\n",
       "      <td>ALEXANDRA</td>\n",
       "      <td>Minor Dam</td>\n",
       "      <td>134</td>\n",
       "      <td>10.60</td>\n",
       "      <td>98.9</td>\n",
       "      <td>0.738</td>\n",
       "    </tr>\n",
       "  </tbody>\n",
       "</table>\n",
       "</div>"
      ],
      "text/plain": [
       "       t_date month_year  t_month  t_year   dam_name  dam_class  \\\n",
       "0  01/01/2012     Jan-12        1    2012  ALEXANDRA  Minor Dam   \n",
       "1  02/01/2012     Jan-12        1    2012  ALEXANDRA  Minor Dam   \n",
       "2  03/01/2012     Jan-12        1    2012  ALEXANDRA  Minor Dam   \n",
       "3  04/01/2012     Jan-12        1    2012  ALEXANDRA  Minor Dam   \n",
       "4  05/01/2012     Jan-12        1    2012  ALEXANDRA  Minor Dam   \n",
       "\n",
       "   Max_dam_capacity_ML  height_m  storage_ml  percentage_capacity  \n",
       "0                  134     10.64        99.9                0.745  \n",
       "1                  134     10.61        99.2                0.740  \n",
       "2                  134     10.59        98.7                0.737  \n",
       "3                  134     10.61        99.2                0.740  \n",
       "4                  134     10.60        98.9                0.738  "
      ]
     },
     "execution_count": 2,
     "metadata": {},
     "output_type": "execute_result"
    }
   ],
   "source": [
    "# Read in the dam levels dataset into Pandas dataframe and encode it correctly\n",
    "df = pd.read_csv('dam_levels.csv', encoding='latin-1')\n",
    "\n",
    "# Drop unneccesarry columns\n",
    "df = df.drop('dam_stats_key', axis=1)\n",
    "\n",
    "# Look at first few entries\n",
    "df['percentage_capacity'] = df['percentage_capacity'].apply(lambda x: x/100).round(3)\n",
    "\n",
    "df.head()"
   ]
  },
  {
   "cell_type": "markdown",
   "metadata": {
    "deletable": true,
    "editable": true
   },
   "source": [
    "### Question 11\n",
    "\n",
    "#### What is the percentage of water in all dams in the Western Cape on 19 Oct 2017?"
   ]
  },
  {
   "cell_type": "code",
   "execution_count": 5,
   "metadata": {
    "collapsed": false,
    "deletable": true,
    "editable": true
   },
   "outputs": [
    {
     "data": {
      "text/plain": [
       "0.3814624071355364"
      ]
     },
     "execution_count": 5,
     "metadata": {},
     "output_type": "execute_result"
    }
   ],
   "source": [
    "# Total storage on 19 Oct 2017\n",
    "s = df[df['t_date'] == '19/10/2017'].sum()['storage_ml']\n",
    "\n",
    "# Total capacity on 19 Oct 2017\n",
    "t = df[df['t_date'] == '19/10/2017'].sum()['Max_dam_capacity_ML']\n",
    "\n",
    "# Divide storage by capacity to get % capacity \n",
    "s / t"
   ]
  },
  {
   "cell_type": "markdown",
   "metadata": {
    "deletable": true,
    "editable": true
   },
   "source": [
    "### Question 12\n",
    "\n",
    "#### Which dam has the lowest percentage of water on 19 Oct 2017?"
   ]
  },
  {
   "cell_type": "code",
   "execution_count": 6,
   "metadata": {
    "collapsed": false,
    "deletable": true,
    "editable": true
   },
   "outputs": [
    {
     "data": {
      "text/html": [
       "<div>\n",
       "<table border=\"1\" class=\"dataframe\">\n",
       "  <thead>\n",
       "    <tr style=\"text-align: right;\">\n",
       "      <th></th>\n",
       "      <th>dam_name</th>\n",
       "      <th>percentage_capacity</th>\n",
       "    </tr>\n",
       "  </thead>\n",
       "  <tbody>\n",
       "    <tr>\n",
       "      <th>26230</th>\n",
       "      <td>VOELVLEI</td>\n",
       "      <td>0.273</td>\n",
       "    </tr>\n",
       "    <tr>\n",
       "      <th>21846</th>\n",
       "      <td>THEEWATERSKLOOF</td>\n",
       "      <td>0.278</td>\n",
       "    </tr>\n",
       "    <tr>\n",
       "      <th>17462</th>\n",
       "      <td>STEENBRAS LOWER</td>\n",
       "      <td>0.447</td>\n",
       "    </tr>\n",
       "    <tr>\n",
       "      <th>28422</th>\n",
       "      <td>WEMMERSHOEK</td>\n",
       "      <td>0.470</td>\n",
       "    </tr>\n",
       "    <tr>\n",
       "      <th>4310</th>\n",
       "      <td>BERG RIVER</td>\n",
       "      <td>0.675</td>\n",
       "    </tr>\n",
       "    <tr>\n",
       "      <th>10886</th>\n",
       "      <td>KLEINPLAATS</td>\n",
       "      <td>0.677</td>\n",
       "    </tr>\n",
       "    <tr>\n",
       "      <th>2118</th>\n",
       "      <td>ALEXANDRA</td>\n",
       "      <td>0.694</td>\n",
       "    </tr>\n",
       "    <tr>\n",
       "      <th>30614</th>\n",
       "      <td>WOODHEAD</td>\n",
       "      <td>0.957</td>\n",
       "    </tr>\n",
       "    <tr>\n",
       "      <th>6502</th>\n",
       "      <td>DE VILLIERS</td>\n",
       "      <td>0.966</td>\n",
       "    </tr>\n",
       "    <tr>\n",
       "      <th>15270</th>\n",
       "      <td>LEWIS GAY</td>\n",
       "      <td>0.972</td>\n",
       "    </tr>\n",
       "    <tr>\n",
       "      <th>8694</th>\n",
       "      <td>HELY-HUTCHINSON</td>\n",
       "      <td>1.003</td>\n",
       "    </tr>\n",
       "    <tr>\n",
       "      <th>24038</th>\n",
       "      <td>VICTORIA</td>\n",
       "      <td>1.007</td>\n",
       "    </tr>\n",
       "    <tr>\n",
       "      <th>19654</th>\n",
       "      <td>STEENBRAS UPPER</td>\n",
       "      <td>1.010</td>\n",
       "    </tr>\n",
       "    <tr>\n",
       "      <th>13078</th>\n",
       "      <td>LAND-en ZEEZICHT</td>\n",
       "      <td>1.049</td>\n",
       "    </tr>\n",
       "  </tbody>\n",
       "</table>\n",
       "</div>"
      ],
      "text/plain": [
       "               dam_name  percentage_capacity\n",
       "26230          VOELVLEI                0.273\n",
       "21846   THEEWATERSKLOOF                0.278\n",
       "17462   STEENBRAS LOWER                0.447\n",
       "28422       WEMMERSHOEK                0.470\n",
       "4310         BERG RIVER                0.675\n",
       "10886       KLEINPLAATS                0.677\n",
       "2118          ALEXANDRA                0.694\n",
       "30614          WOODHEAD                0.957\n",
       "6502        DE VILLIERS                0.966\n",
       "15270         LEWIS GAY                0.972\n",
       "8694    HELY-HUTCHINSON                1.003\n",
       "24038          VICTORIA                1.007\n",
       "19654   STEENBRAS UPPER                1.010\n",
       "13078  LAND-en ZEEZICHT                1.049"
      ]
     },
     "execution_count": 6,
     "metadata": {},
     "output_type": "execute_result"
    }
   ],
   "source": [
    "df[df['t_date'] == '19/10/2017'][['dam_name', 'percentage_capacity']].sort_values(by='percentage_capacity', ascending=True)"
   ]
  },
  {
   "cell_type": "markdown",
   "metadata": {
    "deletable": true,
    "editable": true
   },
   "source": [
    "### Question 13\n",
    "\n",
    "#### What was the height of the Theewaterskloof dam on 13 June 2016?"
   ]
  },
  {
   "cell_type": "code",
   "execution_count": 7,
   "metadata": {
    "collapsed": false,
    "deletable": true,
    "editable": true
   },
   "outputs": [
    {
     "data": {
      "text/html": [
       "<div>\n",
       "<table border=\"1\" class=\"dataframe\">\n",
       "  <thead>\n",
       "    <tr style=\"text-align: right;\">\n",
       "      <th></th>\n",
       "      <th>dam_name</th>\n",
       "      <th>height_m</th>\n",
       "    </tr>\n",
       "  </thead>\n",
       "  <tbody>\n",
       "    <tr>\n",
       "      <th>21353</th>\n",
       "      <td>THEEWATERSKLOOF</td>\n",
       "      <td>18.2</td>\n",
       "    </tr>\n",
       "  </tbody>\n",
       "</table>\n",
       "</div>"
      ],
      "text/plain": [
       "              dam_name  height_m\n",
       "21353  THEEWATERSKLOOF      18.2"
      ]
     },
     "execution_count": 7,
     "metadata": {},
     "output_type": "execute_result"
    }
   ],
   "source": [
    "df[(df['t_date'] == '13/06/2016') & (df['dam_name'] == 'THEEWATERSKLOOF')][['dam_name', 'height_m']]"
   ]
  },
  {
   "cell_type": "markdown",
   "metadata": {
    "deletable": true,
    "editable": true
   },
   "source": [
    "### Question 14\n",
    "\n",
    "#### Which dam saw the greatest decrease (%) in average height from 2015 to 2016?"
   ]
  },
  {
   "cell_type": "code",
   "execution_count": 12,
   "metadata": {
    "collapsed": false,
    "deletable": true,
    "editable": true
   },
   "outputs": [
    {
     "data": {
      "text/html": [
       "<div>\n",
       "<table border=\"1\" class=\"dataframe\">\n",
       "  <thead>\n",
       "    <tr style=\"text-align: right;\">\n",
       "      <th>t_year</th>\n",
       "      <th>dam_name</th>\n",
       "      <th>15_16</th>\n",
       "    </tr>\n",
       "  </thead>\n",
       "  <tbody>\n",
       "    <tr>\n",
       "      <th>6</th>\n",
       "      <td>LEWIS GAY</td>\n",
       "      <td>-0.321555</td>\n",
       "    </tr>\n",
       "    <tr>\n",
       "      <th>1</th>\n",
       "      <td>BERG RIVER</td>\n",
       "      <td>-0.205346</td>\n",
       "    </tr>\n",
       "    <tr>\n",
       "      <th>5</th>\n",
       "      <td>LAND-en ZEEZICHT</td>\n",
       "      <td>-0.203582</td>\n",
       "    </tr>\n",
       "    <tr>\n",
       "      <th>9</th>\n",
       "      <td>THEEWATERSKLOOF</td>\n",
       "      <td>-0.133957</td>\n",
       "    </tr>\n",
       "    <tr>\n",
       "      <th>11</th>\n",
       "      <td>VOELVLEI</td>\n",
       "      <td>-0.102943</td>\n",
       "    </tr>\n",
       "    <tr>\n",
       "      <th>7</th>\n",
       "      <td>STEENBRAS LOWER</td>\n",
       "      <td>-0.098373</td>\n",
       "    </tr>\n",
       "    <tr>\n",
       "      <th>12</th>\n",
       "      <td>WEMMERSHOEK</td>\n",
       "      <td>-0.041019</td>\n",
       "    </tr>\n",
       "    <tr>\n",
       "      <th>8</th>\n",
       "      <td>STEENBRAS UPPER</td>\n",
       "      <td>-0.026223</td>\n",
       "    </tr>\n",
       "    <tr>\n",
       "      <th>13</th>\n",
       "      <td>WOODHEAD</td>\n",
       "      <td>0.064021</td>\n",
       "    </tr>\n",
       "    <tr>\n",
       "      <th>2</th>\n",
       "      <td>DE VILLIERS</td>\n",
       "      <td>0.075741</td>\n",
       "    </tr>\n",
       "    <tr>\n",
       "      <th>4</th>\n",
       "      <td>KLEINPLAATS</td>\n",
       "      <td>0.100296</td>\n",
       "    </tr>\n",
       "    <tr>\n",
       "      <th>10</th>\n",
       "      <td>VICTORIA</td>\n",
       "      <td>0.115310</td>\n",
       "    </tr>\n",
       "    <tr>\n",
       "      <th>0</th>\n",
       "      <td>ALEXANDRA</td>\n",
       "      <td>0.204729</td>\n",
       "    </tr>\n",
       "    <tr>\n",
       "      <th>3</th>\n",
       "      <td>HELY-HUTCHINSON</td>\n",
       "      <td>0.457601</td>\n",
       "    </tr>\n",
       "  </tbody>\n",
       "</table>\n",
       "</div>"
      ],
      "text/plain": [
       "t_year          dam_name     15_16\n",
       "6              LEWIS GAY -0.321555\n",
       "1             BERG RIVER -0.205346\n",
       "5       LAND-en ZEEZICHT -0.203582\n",
       "9        THEEWATERSKLOOF -0.133957\n",
       "11              VOELVLEI -0.102943\n",
       "7        STEENBRAS LOWER -0.098373\n",
       "12           WEMMERSHOEK -0.041019\n",
       "8        STEENBRAS UPPER -0.026223\n",
       "13              WOODHEAD  0.064021\n",
       "2            DE VILLIERS  0.075741\n",
       "4            KLEINPLAATS  0.100296\n",
       "10              VICTORIA  0.115310\n",
       "0              ALEXANDRA  0.204729\n",
       "3        HELY-HUTCHINSON  0.457601"
      ]
     },
     "execution_count": 12,
     "metadata": {},
     "output_type": "execute_result"
    }
   ],
   "source": [
    "# Create pivot table to get average height by year\n",
    "a = df.pivot_table(values='height_m', index='dam_name', columns='t_year').reset_index()\n",
    "\n",
    "# Create a column for % increase in height from 2015 to 2016\n",
    "a['15_16'] = a[2016] / a[2015] - 1\n",
    "\n",
    "# Sort increase in % height from low to high\n",
    "a[['dam_name', '15_16']].sort_values(by='15_16', ascending=True)"
   ]
  },
  {
   "cell_type": "markdown",
   "metadata": {
    "deletable": true,
    "editable": true
   },
   "source": [
    "### Question 15\n",
    "\n",
    "#### How many days in April 2016 did the Theewaterskloof dam have a percentage capacity of < 30%?"
   ]
  },
  {
   "cell_type": "code",
   "execution_count": 14,
   "metadata": {
    "collapsed": false,
    "deletable": true,
    "editable": true
   },
   "outputs": [
    {
     "data": {
      "text/plain": [
       "23"
      ]
     },
     "execution_count": 14,
     "metadata": {},
     "output_type": "execute_result"
    }
   ],
   "source": [
    "df[(df['month_year'] == 'Apr-16') \n",
    "   & (df['dam_name'] == 'THEEWATERSKLOOF') \n",
    "   & (df['percentage_capacity'] < 0.33)]['month_year'].count()"
   ]
  },
  {
   "cell_type": "markdown",
   "metadata": {
    "deletable": true,
    "editable": true
   },
   "source": [
    "### Question 16\n",
    "\n",
    "#### Which dam was the fullest on average in September 2015?"
   ]
  },
  {
   "cell_type": "code",
   "execution_count": 15,
   "metadata": {
    "collapsed": false,
    "deletable": true,
    "editable": true
   },
   "outputs": [
    {
     "data": {
      "text/plain": [
       "dam_name\n",
       "HELY-HUTCHINSON     1.000833\n",
       "LEWIS GAY           0.996767\n",
       "STEENBRAS UPPER     0.956433\n",
       "DE VILLIERS         0.910433\n",
       "STEENBRAS LOWER     0.902533\n",
       "VICTORIA            0.900000\n",
       "BERG RIVER          0.889833\n",
       "KLEINPLAATS         0.807200\n",
       "WOODHEAD            0.782767\n",
       "THEEWATERSKLOOF     0.758433\n",
       "WEMMERSHOEK         0.725467\n",
       "VOELVLEI            0.495800\n",
       "LAND-en ZEEZICHT    0.435767\n",
       "ALEXANDRA           0.350500\n",
       "Name: percentage_capacity, dtype: float64"
      ]
     },
     "execution_count": 15,
     "metadata": {},
     "output_type": "execute_result"
    }
   ],
   "source": [
    "df[df['month_year'] == 'Sep-15'].groupby('dam_name').mean()['percentage_capacity'].sort_values(ascending=False)"
   ]
  },
  {
   "cell_type": "markdown",
   "metadata": {
    "deletable": true,
    "editable": true
   },
   "source": [
    "### Question 17\n",
    "\n",
    "#### On which day in January 2016 did the Voëlvlei dam have the least water?"
   ]
  },
  {
   "cell_type": "code",
   "execution_count": 26,
   "metadata": {
    "collapsed": false,
    "deletable": true,
    "editable": true
   },
   "outputs": [
    {
     "data": {
      "text/plain": [
       "t_date                 31/01/2016\n",
       "month_year                 Jan-16\n",
       "t_month                         1\n",
       "t_year                       2016\n",
       "dam_name                 VOELVLEI\n",
       "dam_class               Major Dam\n",
       "Max_dam_capacity_ML        164095\n",
       "height_m                     8.38\n",
       "storage_ml                  42024\n",
       "percentage_capacity         0.256\n",
       "Name: 25603, dtype: object"
      ]
     },
     "execution_count": 26,
     "metadata": {},
     "output_type": "execute_result"
    }
   ],
   "source": [
    "df[(df['dam_name'] == 'VOELVLEI') & (df['month_year'] == 'Jan-16')].sort_values(by='storage_ml').iloc[0]"
   ]
  },
  {
   "cell_type": "markdown",
   "metadata": {
    "deletable": true,
    "editable": true
   },
   "source": [
    "### Question 18\n",
    "\n",
    "#### Which dam had the lowest % capacity in 2014 and on what day was it?"
   ]
  },
  {
   "cell_type": "code",
   "execution_count": 38,
   "metadata": {
    "collapsed": false,
    "deletable": true,
    "editable": true
   },
   "outputs": [
    {
     "data": {
      "text/html": [
       "<div>\n",
       "<table border=\"1\" class=\"dataframe\">\n",
       "  <thead>\n",
       "    <tr style=\"text-align: right;\">\n",
       "      <th></th>\n",
       "      <th>dam_name</th>\n",
       "      <th>t_date</th>\n",
       "      <th>percentage_capacity</th>\n",
       "    </tr>\n",
       "  </thead>\n",
       "  <tbody>\n",
       "    <tr>\n",
       "      <th>7454</th>\n",
       "      <td>HELY-HUTCHINSON</td>\n",
       "      <td>28/05/2014</td>\n",
       "      <td>0.056</td>\n",
       "    </tr>\n",
       "  </tbody>\n",
       "</table>\n",
       "</div>"
      ],
      "text/plain": [
       "             dam_name      t_date  percentage_capacity\n",
       "7454  HELY-HUTCHINSON  28/05/2014                0.056"
      ]
     },
     "execution_count": 38,
     "metadata": {},
     "output_type": "execute_result"
    }
   ],
   "source": [
    "df[df['t_year'] == 2014].sort_values(by='percentage_capacity')[['dam_name', 't_date', 'percentage_capacity']].head(1)"
   ]
  },
  {
   "cell_type": "markdown",
   "metadata": {
    "deletable": true,
    "editable": true
   },
   "source": [
    "### Question 19\n",
    "\n",
    "#### In how many different days in the data are at least one dam full (i.e. percentage >= 100%)?"
   ]
  },
  {
   "cell_type": "code",
   "execution_count": 39,
   "metadata": {
    "collapsed": false,
    "deletable": true,
    "editable": true
   },
   "outputs": [
    {
     "data": {
      "text/plain": [
       "1016"
      ]
     },
     "execution_count": 39,
     "metadata": {},
     "output_type": "execute_result"
    }
   ],
   "source": [
    "df[df['percentage_capacity'] >= 1]['t_date'].nunique()"
   ]
  },
  {
   "cell_type": "markdown",
   "metadata": {
    "deletable": true,
    "editable": true
   },
   "source": [
    "### Question 20\n",
    "\n",
    "#### Which dam was full for the most days?"
   ]
  },
  {
   "cell_type": "code",
   "execution_count": 40,
   "metadata": {
    "collapsed": false,
    "deletable": true,
    "editable": true
   },
   "outputs": [
    {
     "data": {
      "text/plain": [
       "dam_name\n",
       "HELY-HUTCHINSON     636\n",
       "VICTORIA            575\n",
       "LEWIS GAY           486\n",
       "STEENBRAS UPPER     424\n",
       "BERG RIVER          339\n",
       "DE VILLIERS         304\n",
       "THEEWATERSKLOOF     286\n",
       "KLEINPLAATS         237\n",
       "WOODHEAD            154\n",
       "STEENBRAS LOWER     131\n",
       "VOELVLEI            113\n",
       "ALEXANDRA            93\n",
       "LAND-en ZEEZICHT     91\n",
       "WEMMERSHOEK          84\n",
       "Name: t_date, dtype: int64"
      ]
     },
     "execution_count": 40,
     "metadata": {},
     "output_type": "execute_result"
    }
   ],
   "source": [
    "df[df['percentage_capacity'] >= 1].groupby('dam_name')['t_date'].count().sort_values(ascending=False)"
   ]
  }
 ],
 "metadata": {
  "kernelspec": {
   "display_name": "Python 3",
   "language": "python",
   "name": "python3"
  },
  "language_info": {
   "codemirror_mode": {
    "name": "ipython",
    "version": 3
   },
   "file_extension": ".py",
   "mimetype": "text/x-python",
   "name": "python",
   "nbconvert_exporter": "python",
   "pygments_lexer": "ipython3",
   "version": "3.6.0"
  }
 },
 "nbformat": 4,
 "nbformat_minor": 2
}
