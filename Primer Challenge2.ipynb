{
 "cells": [
  {
   "cell_type": "code",
   "execution_count": 2,
   "metadata": {},
   "outputs": [
    {
     "name": "stdout",
     "output_type": "stream",
     "text": [
      "10: is even\n",
      "11: is odd\n",
      "12: is even\n",
      "13: is odd\n",
      "14: is even\n",
      "15: is odd\n",
      "16: is even\n",
      "17: is odd\n",
      "18: is even\n",
      "19: is odd\n",
      "20: is even\n",
      "21: is odd\n",
      "22: is even\n",
      "23: is odd\n",
      "24: is even\n",
      "25: is odd\n",
      "26: is even\n",
      "27: is odd\n",
      "28: is even\n",
      "29: is odd\n",
      "30: is even\n",
      "31: is odd\n",
      "32: is even\n",
      "33: is odd\n",
      "34: is even\n",
      "35: is odd\n",
      "36: is even\n",
      "37: is odd\n",
      "38: is even\n",
      "39: is odd\n",
      "40: is even\n",
      "41: is odd\n",
      "42: is even\n",
      "43: is odd\n",
      "44: is even\n",
      "45: is odd\n",
      "46: is even\n",
      "47: is odd\n",
      "48: is even\n",
      "49: is odd\n",
      "50: is even\n",
      "51: is odd\n",
      "52: is even\n",
      "53: is odd\n",
      "54: is even\n"
     ]
    }
   ],
   "source": [
    "def odd_even(num1,num2):\n",
    "\n",
    "    for i in range (num1,num2):\n",
    "        if i%2==1:\n",
    "            print(str(i)+\":\"+\" \"+\"is odd\")\n",
    "        else:\n",
    "            print(str(i)+\":\"+\" \"+\"is even\")\n",
    "            \n",
    "odd_even(10, 55)\n",
    "        \n",
    "    \n",
    "\n"
   ]
  },
  {
   "cell_type": "code",
   "execution_count": null,
   "metadata": {
    "collapsed": true
   },
   "outputs": [],
   "source": []
  },
  {
   "cell_type": "code",
   "execution_count": null,
   "metadata": {
    "collapsed": true
   },
   "outputs": [],
   "source": []
  }
 ],
 "metadata": {
  "kernelspec": {
   "display_name": "Python 3",
   "language": "python",
   "name": "python3"
  },
  "language_info": {
   "codemirror_mode": {
    "name": "ipython",
    "version": 3
   },
   "file_extension": ".py",
   "mimetype": "text/x-python",
   "name": "python",
   "nbconvert_exporter": "python",
   "pygments_lexer": "ipython3",
   "version": "3.6.3"
  }
 },
 "nbformat": 4,
 "nbformat_minor": 2
}
