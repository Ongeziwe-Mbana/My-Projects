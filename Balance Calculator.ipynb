{
 "cells": [
  {
   "cell_type": "markdown",
   "metadata": {},
   "source": [
    "# Balance Calculator"
   ]
  },
  {
   "cell_type": "markdown",
   "metadata": {},
   "source": [
    "Everything costs money... sometimes it is hard to keep track of our spending. In this challenge, you will write code to monitor spending on a bank account. "
   ]
  },
  {
   "cell_type": "markdown",
   "metadata": {},
   "source": [
    "## Honour Code"
   ]
  },
  {
   "cell_type": "markdown",
   "metadata": {},
   "source": [
    "I **Ongeziwe, Mbana**, confirm - by submitting this document - that the solutions in this notebook are a result of my own work and that I abide by the EDSA honour code (https://drive.google.com/file/d/1QDCjGZJ8-FmJE3bZdIQNwnJyQKPhHZBn/view?usp=sharing).  \n",
    "\n",
    "Non-compliance with the honour code constitutes a material breach of contract."
   ]
  },
  {
   "cell_type": "markdown",
   "metadata": {},
   "source": [
    "# Question 1: Cost calculator"
   ]
  },
  {
   "cell_type": "markdown",
   "metadata": {},
   "source": [
    "Define and complete a function called `spend` that tells us how much money we have after we buy something.\n",
    "\n",
    "`spend` must take **two** parameters:\n",
    "1. Cash you have before purchase (Balance)\n",
    "2. Money spent (Cost)\n",
    "\n",
    "`spend` must return how much money we have left (the new balance) after the purchase. "
   ]
  },
  {
   "cell_type": "markdown",
   "metadata": {},
   "source": [
    "## Sample I/O\n",
    "```python\n",
    "spend(1000, 500)\n",
    "```\n",
    "    500\n",
    "---\n",
    "```python\n",
    "spend(500, 1000)\n",
    "```\n",
    "    -500\n",
    "---"
   ]
  },
  {
   "cell_type": "markdown",
   "metadata": {},
   "source": [
    "## Write your code for this question in the cell below"
   ]
  },
  {
   "cell_type": "code",
   "execution_count": 2,
   "metadata": {
    "collapsed": true,
    "nbgrader": {
     "grade": false,
     "grade_id": "cell-a4742f59416f3b2b",
     "locked": false,
     "schema_version": 1,
     "solution": true
    }
   },
   "outputs": [],
   "source": [
    "## Code your spend function in this cell##\n",
    "\n",
    "def spend(cashBefore, cashAfter):\n",
    "    money_spent = cashBefore-cashAfter\n",
    "    return money_spent\n",
    "## end of function ##"
   ]
  },
  {
   "cell_type": "markdown",
   "metadata": {
    "nbgrader": {
     "grade": false,
     "grade_id": "cell-a4742f59416f3b2b",
     "locked": false,
     "schema_version": 1,
     "solution": true
    }
   },
   "source": [
    "<a id='spend_tests'></a>\n",
    "### Make sure the following cells output `True`:"
   ]
  },
  {
   "cell_type": "code",
   "execution_count": 3,
   "metadata": {
    "nbgrader": {
     "grade": false,
     "grade_id": "cell-a4742f59416f3b2b",
     "locked": false,
     "schema_version": 1,
     "solution": true
    }
   },
   "outputs": [
    {
     "data": {
      "text/plain": [
       "True"
      ]
     },
     "execution_count": 3,
     "metadata": {},
     "output_type": "execute_result"
    }
   ],
   "source": [
    "spend(1000, 500) == 500"
   ]
  },
  {
   "cell_type": "code",
   "execution_count": 4,
   "metadata": {
    "nbgrader": {
     "grade": false,
     "grade_id": "cell-a4742f59416f3b2b",
     "locked": false,
     "schema_version": 1,
     "solution": true
    }
   },
   "outputs": [
    {
     "data": {
      "text/plain": [
       "True"
      ]
     },
     "execution_count": 4,
     "metadata": {},
     "output_type": "execute_result"
    }
   ],
   "source": [
    "spend(500, 1000) == -500"
   ]
  },
  {
   "cell_type": "markdown",
   "metadata": {
    "nbgrader": {
     "grade": false,
     "grade_id": "cell-a4742f59416f3b2b",
     "locked": false,
     "schema_version": 1,
     "solution": true
    }
   },
   "source": [
    "___\n",
    "---"
   ]
  },
  {
   "cell_type": "markdown",
   "metadata": {
    "nbgrader": {
     "grade": false,
     "grade_id": "cell-a4742f59416f3b2b",
     "locked": false,
     "schema_version": 1,
     "solution": true
    }
   },
   "source": [
    "# Question 2: Balance feedback"
   ]
  },
  {
   "cell_type": "markdown",
   "metadata": {
    "nbgrader": {
     "grade": false,
     "grade_id": "cell-a4742f59416f3b2b",
     "locked": false,
     "schema_version": 1,
     "solution": true
    }
   },
   "source": [
    "Some accounts let us spend money on credit. If our account balance is negative, then our account is _overdrawn_."
   ]
  },
  {
   "cell_type": "markdown",
   "metadata": {
    "nbgrader": {
     "grade": false,
     "grade_id": "cell-a4742f59416f3b2b",
     "locked": false,
     "schema_version": 1,
     "solution": true
    }
   },
   "source": [
    "Define and complete a function called `balance` that tells us how much money is on our account, and if it is overdrawn.\n",
    "\n",
    "`balance` must take **one** parameter:\n",
    "1. Money in a the account (balance)\n",
    "\n",
    "`balance` must return:\n",
    "\n",
    "* `'R<balance> remaining'` when the account has a positive balance\n",
    "* `'Overdrawn by R<balance>'` when the account has a negative balance"
   ]
  },
  {
   "cell_type": "markdown",
   "metadata": {
    "nbgrader": {
     "grade": false,
     "grade_id": "cell-a4742f59416f3b2b",
     "locked": false,
     "schema_version": 1,
     "solution": true
    }
   },
   "source": [
    "## Sample I/O\n",
    "```python\n",
    "balance(0)\n",
    "```\n",
    "    'R0 remaining'\n",
    "---\n",
    "```python\n",
    "spend(699)\n",
    "```\n",
    "    'R699 remaining'\n",
    "---\n",
    "```python\n",
    "balance(-750)\n",
    "```\n",
    "    'Overdrawn by R750'\n",
    "**Note:** Output must be *EXACTLY* the same; pay attention to punctuation, signs, spelling, and capitalization. "
   ]
  },
  {
   "cell_type": "markdown",
   "metadata": {},
   "source": [
    "## Write your code for this question in the cell below"
   ]
  },
  {
   "cell_type": "code",
   "execution_count": 24,
   "metadata": {},
   "outputs": [
    {
     "data": {
      "text/plain": [
       "'Overdrawn by R750'"
      ]
     },
     "execution_count": 24,
     "metadata": {},
     "output_type": "execute_result"
    }
   ],
   "source": [
    "## Code your balance function in this cell##\n",
    "def balance(money):\n",
    "    if money>=0:\n",
    "        money_in=\"R\"+str(money)+\" \"+\"remaining\"\n",
    "    elif money<0:\n",
    "        money_in=\"Overdrawn\"+\" \"+ \"by\"+\" \"+\"R\"+str(money*-1)\n",
    "    return money_in\n",
    "    \n",
    "\n",
    "## end of balance function ##"
   ]
  },
  {
   "cell_type": "markdown",
   "metadata": {},
   "source": [
    "<a id='balance_tests'></a>\n",
    "## Make sure the following cells output `True`:"
   ]
  },
  {
   "cell_type": "code",
   "execution_count": 25,
   "metadata": {},
   "outputs": [
    {
     "data": {
      "text/plain": [
       "True"
      ]
     },
     "execution_count": 25,
     "metadata": {},
     "output_type": "execute_result"
    }
   ],
   "source": [
    "balance(0) == 'R0 remaining'"
   ]
  },
  {
   "cell_type": "code",
   "execution_count": 26,
   "metadata": {},
   "outputs": [
    {
     "data": {
      "text/plain": [
       "True"
      ]
     },
     "execution_count": 26,
     "metadata": {},
     "output_type": "execute_result"
    }
   ],
   "source": [
    "balance(699) == 'R699 remaining'"
   ]
  },
  {
   "cell_type": "code",
   "execution_count": 27,
   "metadata": {},
   "outputs": [
    {
     "data": {
      "text/plain": [
       "True"
      ]
     },
     "execution_count": 27,
     "metadata": {},
     "output_type": "execute_result"
    }
   ],
   "source": [
    "balance(-750) == 'Overdrawn by R750'"
   ]
  },
  {
   "cell_type": "markdown",
   "metadata": {},
   "source": [
    "___\n",
    "---"
   ]
  },
  {
   "cell_type": "markdown",
   "metadata": {},
   "source": [
    "# Question 3: Balance tracker"
   ]
  },
  {
   "cell_type": "markdown",
   "metadata": {},
   "source": [
    "Now let's write code to keep track of our balance while we spend!"
   ]
  },
  {
   "cell_type": "markdown",
   "metadata": {},
   "source": [
    "Define and complete a function called `track` that uses both `spend` and `balance` to monitor how much money we have in our account, (or how much we owe the bank). Our account has a credit limit of R10,000.00\n",
    "\n",
    "`track` must take **two** parameters:\n",
    "\n",
    "1. A starting balance\n",
    "2. A `List` of payments\n",
    "\n",
    "For every payment in the list, `track` must `print` the cost of and the new balance after the payment is made:\n",
    "* `'You spent R<cost>. R<new balance> remaining.'`\n",
    "If a payment costs more than our credit limit allows, `track` must `print`:\n",
    "* `'You do not have enough credit.'`\n",
    "\n",
    "**Hint:** track must **print**, it must not **return**\n",
    "\n",
    "**Hint** call your `track` and `balance` functions."
   ]
  },
  {
   "cell_type": "markdown",
   "metadata": {},
   "source": [
    "## Sample I/O\n",
    "```python\n",
    "track(10000, [1000,50.50,9750,75])\n",
    "```\n",
    "    You spent R1000. R9000 remaining\n",
    "    You spent R50.5. R8949.5 remaining\n",
    "    You spent R9750. Overdrawn by R800.5\n",
    "    You spent R75. Overdrawn by R875.5\n",
    "---\n",
    "```python\n",
    "track(5000, [10500,5000,5,5])\n",
    "```\n",
    "    You spent R10500. Overdrawn by R5500\n",
    "    You do not have enough credit.\n",
    "    You spent R5. Overdrawn by R5505\n",
    "    You spent R5. Overdrawn by R5510\n",
    "---\n",
    "**Note:** Output must be *EXACTLY* the same; pay attention to punctuation, signs, spelling, and capitalization. "
   ]
  },
  {
   "cell_type": "markdown",
   "metadata": {},
   "source": [
    "## Write your code for this question in the cell below"
   ]
  },
  {
   "cell_type": "code",
   "execution_count": 1,
   "metadata": {
    "collapsed": true
   },
   "outputs": [],
   "source": [
    "## Code your track function in this cell##\n",
    "'''\n",
    "def track(credit, payments):\n",
    "    \n",
    "    if credit <= 10000:\n",
    "        for i in payments:\n",
    "            remain = credit - i \n",
    "            over = remain - credit\n",
    "            if remain>0:\n",
    "                remain = ' '+'R'+str(remain)+' '+'remaining'\n",
    "                 \n",
    "            else:\n",
    "                remain =' '+ 'Overdrawn by'+' '+ 'R'+str(over)\n",
    "                \n",
    "            \n",
    "            print(\"You spent\"+\" \"+\"R\"+str(i)+\".\"+remain)\n",
    "    \n",
    "track(10000, [1000,50.50,9750,75])\n",
    "'''\n",
    "def track(credit, payments):\n",
    "    if bal >= 10000:\n",
    "\n",
    "        for payment in payments:\n",
    "\n",
    "            bal -= float(balance(payment)[balance(payment).index('R')\n",
    "                                         + 1 : balance(payment).index(' ')])\n",
    "        if bal >= 0:\n",
    "               print('You spend {}. R{} remaining'.format(payment, bal))\n",
    "        else:\n",
    "                extracted_bal = str(bal)\n",
    "                print('You spend {}. Overdraft by R{}'.format(payment, extracted_bal[extracted_bal.index('-') + 1:]))\n",
    "    else:\n",
    "            print('You do not have enough credit.')\n",
    "## end of balance function ##"
   ]
  },
  {
   "cell_type": "markdown",
   "metadata": {},
   "source": [
    "<a id='track_output'></a>\n",
    "## Make sure the following cell prints the same message twice:"
   ]
  },
  {
   "cell_type": "code",
   "execution_count": 2,
   "metadata": {
    "collapsed": true
   },
   "outputs": [],
   "source": [
    "class Laptop:\n",
    "\n",
    " \n",
    "\n",
    "    @staticmethod\n",
    "    def showdetails():\n",
    "\n",
    "\n",
    "        print (\"This is dell laptop\")\n",
    "\n",
    "\n",
    "\n",
    "    def startlaptop(self):\n",
    "\n",
    "\n",
    "        print (\"Laptop started\")\n",
    "\n",
    " \n",
    "\n",
    "laptop = Laptop()"
   ]
  },
  {
   "cell_type": "code",
   "execution_count": 3,
   "metadata": {},
   "outputs": [
    {
     "data": {
      "text/plain": [
       "<function __main__.Laptop.showdetails>"
      ]
     },
     "execution_count": 3,
     "metadata": {},
     "output_type": "execute_result"
    }
   ],
   "source": [
    "Laptop.showdetails"
   ]
  },
  {
   "cell_type": "code",
   "execution_count": 4,
   "metadata": {},
   "outputs": [
    {
     "ename": "UnboundLocalError",
     "evalue": "local variable 'bal' referenced before assignment",
     "output_type": "error",
     "traceback": [
      "\u001b[1;31m---------------------------------------------------------------------------\u001b[0m",
      "\u001b[1;31mUnboundLocalError\u001b[0m                         Traceback (most recent call last)",
      "\u001b[1;32m<ipython-input-4-d133995766c6>\u001b[0m in \u001b[0;36m<module>\u001b[1;34m()\u001b[0m\n\u001b[1;32m----> 1\u001b[1;33m \u001b[0mtrack\u001b[0m\u001b[1;33m(\u001b[0m\u001b[1;36m10000\u001b[0m\u001b[1;33m,\u001b[0m \u001b[1;33m[\u001b[0m\u001b[1;36m1000\u001b[0m\u001b[1;33m,\u001b[0m\u001b[1;36m50.50\u001b[0m\u001b[1;33m,\u001b[0m\u001b[1;36m9750\u001b[0m\u001b[1;33m,\u001b[0m\u001b[1;36m75\u001b[0m\u001b[1;33m]\u001b[0m\u001b[1;33m)\u001b[0m\u001b[1;33m\u001b[0m\u001b[0m\n\u001b[0m\u001b[0;32m      2\u001b[0m \u001b[0mprint\u001b[0m\u001b[1;33m(\u001b[0m\u001b[1;33m)\u001b[0m\u001b[1;33m\u001b[0m\u001b[0m\n\u001b[0;32m      3\u001b[0m \u001b[0mprint\u001b[0m\u001b[1;33m(\u001b[0m\u001b[1;34m'You spent R1000. R9000 remaining\\nYou spent R50.5. R8949.5 remaining\\nYou spent R9750. Overdrawn by R800.5\\nYou spent R75. Overdrawn by R875.5\\n'\u001b[0m\u001b[1;33m)\u001b[0m\u001b[1;33m\u001b[0m\u001b[0m\n",
      "\u001b[1;32m<ipython-input-1-947c7311b4e8>\u001b[0m in \u001b[0;36mtrack\u001b[1;34m(credit, payments)\u001b[0m\n\u001b[0;32m     19\u001b[0m '''\n\u001b[0;32m     20\u001b[0m \u001b[1;32mdef\u001b[0m \u001b[0mtrack\u001b[0m\u001b[1;33m(\u001b[0m\u001b[0mcredit\u001b[0m\u001b[1;33m,\u001b[0m \u001b[0mpayments\u001b[0m\u001b[1;33m)\u001b[0m\u001b[1;33m:\u001b[0m\u001b[1;33m\u001b[0m\u001b[0m\n\u001b[1;32m---> 21\u001b[1;33m     \u001b[1;32mif\u001b[0m \u001b[0mbal\u001b[0m \u001b[1;33m>=\u001b[0m \u001b[1;36m10000\u001b[0m\u001b[1;33m:\u001b[0m\u001b[1;33m\u001b[0m\u001b[0m\n\u001b[0m\u001b[0;32m     22\u001b[0m \u001b[1;33m\u001b[0m\u001b[0m\n\u001b[0;32m     23\u001b[0m         \u001b[1;32mfor\u001b[0m \u001b[0mpayment\u001b[0m \u001b[1;32min\u001b[0m \u001b[0mpayments\u001b[0m\u001b[1;33m:\u001b[0m\u001b[1;33m\u001b[0m\u001b[0m\n",
      "\u001b[1;31mUnboundLocalError\u001b[0m: local variable 'bal' referenced before assignment"
     ]
    }
   ],
   "source": [
    "track(10000, [1000,50.50,9750,75])\n",
    "print()\n",
    "print('You spent R1000. R9000 remaining\\nYou spent R50.5. R8949.5 remaining\\nYou spent R9750. Overdrawn by R800.5\\nYou spent R75. Overdrawn by R875.5\\n')"
   ]
  },
  {
   "cell_type": "code",
   "execution_count": null,
   "metadata": {
    "collapsed": true
   },
   "outputs": [],
   "source": []
  },
  {
   "cell_type": "markdown",
   "metadata": {},
   "source": [
    "<a id='track_output'></a>\n",
    "## Make sure the following cell prints the same message twice:"
   ]
  },
  {
   "cell_type": "code",
   "execution_count": 51,
   "metadata": {},
   "outputs": [
    {
     "name": "stdout",
     "output_type": "stream",
     "text": [
      "\n",
      "You spent R10500. Overdrawn by R5500\n",
      "You do not have enough credit.\n",
      "You spent R5. Overdrawn by R5505\n",
      "You spent R5. Overdrawn by R5510\n",
      "\n"
     ]
    }
   ],
   "source": [
    "track(5000, [10500,5000,5,5])\n",
    "print()\n",
    "print('You spent R10500. Overdrawn by R5500\\nYou do not have enough credit.\\nYou spent R5. Overdrawn by R5505\\nYou spent R5. Overdrawn by R5510\\n')"
   ]
  }
 ],
 "metadata": {
  "celltoolbar": "Create Assignment",
  "kernelspec": {
   "display_name": "Python 3",
   "language": "python",
   "name": "python3"
  },
  "language_info": {
   "codemirror_mode": {
    "name": "ipython",
    "version": 3
   },
   "file_extension": ".py",
   "mimetype": "text/x-python",
   "name": "python",
   "nbconvert_exporter": "python",
   "pygments_lexer": "ipython3",
   "version": "3.6.3"
  },
  "toc": {
   "base_numbering": 1,
   "nav_menu": {},
   "number_sections": true,
   "sideBar": true,
   "skip_h1_title": false,
   "title_cell": "Table of Contents",
   "title_sidebar": "Contents",
   "toc_cell": false,
   "toc_position": {},
   "toc_section_display": true,
   "toc_window_display": false
  }
 },
 "nbformat": 4,
 "nbformat_minor": 2
}
